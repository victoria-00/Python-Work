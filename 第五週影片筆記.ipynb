{
 "cells": [
  {
   "cell_type": "code",
   "execution_count": 5,
   "metadata": {},
   "outputs": [],
   "source": [
    "%matplotlib inline\n",
    "import numpy as np\n",
    "import matplotlib.pyplot as plt\n",
    "import pandas as pd"
   ]
  },
  {
   "cell_type": "markdown",
   "metadata": {},
   "source": [
    "## Series : array or list\n",
    "\n",
    "## DataFrame : 試算表的表格"
   ]
  },
  {
   "cell_type": "code",
   "execution_count": 6,
   "metadata": {},
   "outputs": [
    {
     "name": "stdout",
     "output_type": "stream",
     "text": [
      " 磁碟區 C 中的磁碟是 Local Disk\n",
      " 磁碟區序號:  0671-FAEA\n",
      "\n",
      " C:\\Users\\victorialee\\Desktop\\span\\MyWork 的目錄\n",
      "\n"
     ]
    },
    {
     "name": "stderr",
     "output_type": "stream",
     "text": [
      "找不到檔案\n"
     ]
    }
   ],
   "source": [
    "%ls  #看現在路徑下有甚麼東西的魔術指令"
   ]
  },
  {
   "cell_type": "code",
   "execution_count": 7,
   "metadata": {},
   "outputs": [],
   "source": [
    "#讀取csv的方法 : pd.read_csv(\"檔名\") \n",
    "# ex.pd.read_csv(\"grades.csv\")\n"
   ]
  },
  {
   "cell_type": "code",
   "execution_count": 8,
   "metadata": {},
   "outputs": [],
   "source": [
    "#看dataframe前五行資料的方法 : dataframe的名稱.head()"
   ]
  },
  {
   "cell_type": "code",
   "execution_count": 10,
   "metadata": {},
   "outputs": [],
   "source": [
    "#統計數據大補帖 : dataframe名稱.describe()"
   ]
  },
  {
   "cell_type": "code",
   "execution_count": 12,
   "metadata": {},
   "outputs": [],
   "source": [
    "#算相關係數 : dataframe名稱.corr()\n",
    "#算特定兩個項的相關係數 : dataframe名稱.A項.corr(dataframe名稱.B項)"
   ]
  },
  {
   "cell_type": "code",
   "execution_count": 13,
   "metadata": {},
   "outputs": [],
   "source": [
    "#新增一個總和的欄位: df名稱[\"新增欄位名稱\"]=df[要總和的欄位的List].sum(1)"
   ]
  },
  {
   "cell_type": "code",
   "execution_count": 14,
   "metadata": {},
   "outputs": [],
   "source": [
    "#新增一個經過計算的欄位 : df名稱[\"新增欄位名稱\"]=df名稱.項目 計算式"
   ]
  },
  {
   "cell_type": "code",
   "execution_count": 15,
   "metadata": {},
   "outputs": [],
   "source": [
    "#依項目進行排序\n",
    "\n",
    "#大到小\n",
    "#df名稱.sort_values(by= '要排序項目'.ascending=False)\n",
    "\n",
    "#小到大\n",
    "#df名稱.sort_values(by= '要排序項目')"
   ]
  },
  {
   "cell_type": "code",
   "execution_count": 16,
   "metadata": {},
   "outputs": [],
   "source": [
    "#多個項目進行排序\n",
    "\n",
    "#df名稱.sort_values(by= ['要排序項目1','要排序項目2',... ])"
   ]
  },
  {
   "cell_type": "code",
   "execution_count": null,
   "metadata": {},
   "outputs": [],
   "source": []
  }
 ],
 "metadata": {
  "kernelspec": {
   "display_name": "Python 3",
   "language": "python",
   "name": "python3"
  },
  "language_info": {
   "codemirror_mode": {
    "name": "ipython",
    "version": 3
   },
   "file_extension": ".py",
   "mimetype": "text/x-python",
   "name": "python",
   "nbconvert_exporter": "python",
   "pygments_lexer": "ipython3",
   "version": "3.7.3"
  }
 },
 "nbformat": 4,
 "nbformat_minor": 2
}
