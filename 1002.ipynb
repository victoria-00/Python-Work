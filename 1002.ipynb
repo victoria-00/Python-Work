{
 "cells": [
  {
   "cell_type": "code",
   "execution_count": 2,
   "metadata": {
    "scrolled": true
   },
   "outputs": [],
   "source": [
    "%matplotlib inline\n",
    "\n",
    "import numpy as np\n",
    "import matplotlib.pyplot as plt\n",
    "import pandas as pd"
   ]
  },
  {
   "cell_type": "markdown",
   "metadata": {},
   "source": [
    "# 文青機器人"
   ]
  },
  {
   "cell_type": "markdown",
   "metadata": {},
   "source": [
    "### 用numpy裡面的random去做"
   ]
  },
  {
   "cell_type": "code",
   "execution_count": 3,
   "metadata": {},
   "outputs": [],
   "source": [
    "from numpy.random import randint #讀進我們要用的np的random函數"
   ]
  },
  {
   "cell_type": "code",
   "execution_count": 4,
   "metadata": {},
   "outputs": [
    {
     "name": "stdout",
     "output_type": "stream",
     "text": [
      "7, 6, 6, 3, 9, 6, 7, 7, 2, 5, 3, 2, 6, 7, 5, 4, 3, 8, 5, 2, 6, 6, 8, 3, 1, 7, 3, 4, 5, 7, 6, 8, 1, 1, 3, 5, 3, 2, 9, 7, 6, 9, 3, 9, 6, 2, 5, 4, 3, 5, "
     ]
    }
   ],
   "source": [
    "for i in range(50):\n",
    "    print(randint(1, 10), end = \", \")  \n",
    "\n",
    "    #可以發現 numpy的randint的特性是 (1,10)不包含10"
   ]
  },
  {
   "cell_type": "code",
   "execution_count": 5,
   "metadata": {},
   "outputs": [],
   "source": [
    "words='''\n",
    "我\n",
    "我的\n",
    "妳\n",
    "妳的\n",
    "心\n",
    "溫柔\n",
    "日子\n",
    "雨\n",
    "風\n",
    "天空\n",
    "雲\n",
    "等待\n",
    "哭泣\n",
    "戀愛\n",
    "相遇\n",
    "分離\n",
    "忘記\n",
    "心醉\n",
    "驀然\n",
    "吹過\n",
    "思念\n",
    "靈魂\n",
    "停止\n",
    "破碎\n",
    "死亡\n",
    "他和妳\n",
    "她和你\n",
    "'''"
   ]
  },
  {
   "cell_type": "code",
   "execution_count": 6,
   "metadata": {},
   "outputs": [
    {
     "data": {
      "text/plain": [
       "'\\n我\\n我的\\n妳\\n妳的\\n心\\n溫柔\\n日子\\n雨\\n風\\n天空\\n雲\\n等待\\n哭泣\\n戀愛\\n相遇\\n分離\\n忘記\\n心醉\\n驀然\\n吹過\\n思念\\n靈魂\\n停止\\n破碎\\n死亡\\n他和妳\\n她和你\\n'"
      ]
     },
     "execution_count": 6,
     "metadata": {},
     "output_type": "execute_result"
    }
   ],
   "source": [
    "words"
   ]
  },
  {
   "cell_type": "code",
   "execution_count": 7,
   "metadata": {},
   "outputs": [
    {
     "data": {
      "text/plain": [
       "['',\n",
       " '我',\n",
       " '我的',\n",
       " '妳',\n",
       " '妳的',\n",
       " '心',\n",
       " '溫柔',\n",
       " '日子',\n",
       " '雨',\n",
       " '風',\n",
       " '天空',\n",
       " '雲',\n",
       " '等待',\n",
       " '哭泣',\n",
       " '戀愛',\n",
       " '相遇',\n",
       " '分離',\n",
       " '忘記',\n",
       " '心醉',\n",
       " '驀然',\n",
       " '吹過',\n",
       " '思念',\n",
       " '靈魂',\n",
       " '停止',\n",
       " '破碎',\n",
       " '死亡',\n",
       " '他和妳',\n",
       " '她和你',\n",
       " '']"
      ]
     },
     "execution_count": 7,
     "metadata": {},
     "output_type": "execute_result"
    }
   ],
   "source": [
    "words.split('\\n')"
   ]
  },
  {
   "cell_type": "code",
   "execution_count": 8,
   "metadata": {},
   "outputs": [],
   "source": [
    "phrase = words.split('\\n')"
   ]
  },
  {
   "cell_type": "code",
   "execution_count": 14,
   "metadata": {},
   "outputs": [],
   "source": [
    "from numpy.random import choice"
   ]
  },
  {
   "cell_type": "code",
   "execution_count": 25,
   "metadata": {},
   "outputs": [
    {
     "name": "stdout",
     "output_type": "stream",
     "text": [
      "['死亡' '他和妳' '破碎' '天空']\n",
      "['日子' '戀愛' '停止' '戀愛']\n",
      "['我' '她和你' '破碎' '心']\n"
     ]
    }
   ],
   "source": [
    "a = randint(2, 6)\n",
    "for i in range(randint(3,6)):\n",
    "    print(choice(phrase, (int(a))))"
   ]
  },
  {
   "cell_type": "code",
   "execution_count": 26,
   "metadata": {},
   "outputs": [],
   "source": [
    "ll = randint(5, 8) #這首詩一行有5-7字\n",
    "\n",
    "egg = choice(phrase, ll)"
   ]
  },
  {
   "cell_type": "code",
   "execution_count": 32,
   "metadata": {},
   "outputs": [
    {
     "data": {
      "text/plain": [
       "array(['思念', '驀然', '雨', '妳', '哭泣'], dtype='<U3')"
      ]
     },
     "execution_count": 32,
     "metadata": {},
     "output_type": "execute_result"
    }
   ],
   "source": [
    "egg"
   ]
  },
  {
   "cell_type": "code",
   "execution_count": 33,
   "metadata": {},
   "outputs": [
    {
     "data": {
      "text/plain": [
       "'思念 驀然 雨 妳 哭泣'"
      ]
     },
     "execution_count": 33,
     "metadata": {},
     "output_type": "execute_result"
    }
   ],
   "source": [
    "' '.join(egg) #把詞合起來 用空白隔開: ' '.join(函數)"
   ]
  },
  {
   "cell_type": "code",
   "execution_count": 31,
   "metadata": {},
   "outputs": [
    {
     "data": {
      "text/plain": [
       "'思念驀然雨妳哭泣'"
      ]
     },
     "execution_count": 31,
     "metadata": {},
     "output_type": "execute_result"
    }
   ],
   "source": [
    "''.join(egg)"
   ]
  },
  {
   "cell_type": "code",
   "execution_count": 34,
   "metadata": {},
   "outputs": [
    {
     "name": "stdout",
     "output_type": "stream",
     "text": [
      "破碎分離思念哭泣戀愛妳\n",
      "相遇雲忘記妳\n",
      "心妳的妳破碎相遇思念\n",
      "妳的她和你雲\n",
      "戀愛等待\n"
     ]
    }
   ],
   "source": [
    "for i in range(randint(3,6)):\n",
    "    l=choice(phrase, randint(2,7))\n",
    "    print(''.join(l))"
   ]
  },
  {
   "cell_type": "code",
   "execution_count": 35,
   "metadata": {},
   "outputs": [
    {
     "name": "stdout",
     "output_type": "stream",
     "text": [
      "The following commands were written to file `poem.py`:\n",
      "from numpy.random import randint #讀進我們要用的np的random函數\n",
      "from numpy.random import choice\n",
      "words='''\n",
      "我\n",
      "我的\n",
      "妳\n",
      "妳的\n",
      "心\n",
      "溫柔\n",
      "日子\n",
      "雨\n",
      "風\n",
      "天空\n",
      "雲\n",
      "等待\n",
      "哭泣\n",
      "戀愛\n",
      "相遇\n",
      "分離\n",
      "忘記\n",
      "心醉\n",
      "驀然\n",
      "吹過\n",
      "思念\n",
      "靈魂\n",
      "停止\n",
      "破碎\n",
      "死亡\n",
      "他和妳\n",
      "她和你\n",
      "'''\n",
      "phrase = words.split('\\n')\n",
      "for i in range(randint(3,6)):\n",
      "    l=choice(phrase, randint(2,7))\n",
      "    print(''.join(l))\n"
     ]
    }
   ],
   "source": [
    "%save \"poem.py\" 3 14 5 8 34  # %save \"檔名\" 要保存下來的行數"
   ]
  },
  {
   "cell_type": "code",
   "execution_count": null,
   "metadata": {},
   "outputs": [],
   "source": []
  }
 ],
 "metadata": {
  "kernelspec": {
   "display_name": "Python 3",
   "language": "python",
   "name": "python3"
  },
  "language_info": {
   "codemirror_mode": {
    "name": "ipython",
    "version": 3
   },
   "file_extension": ".py",
   "mimetype": "text/x-python",
   "name": "python",
   "nbconvert_exporter": "python",
   "pygments_lexer": "ipython3",
   "version": "3.7.3"
  }
 },
 "nbformat": 4,
 "nbformat_minor": 2
}
