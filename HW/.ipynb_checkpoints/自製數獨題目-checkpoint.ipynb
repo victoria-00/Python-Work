{
 "cells": [
  {
   "cell_type": "code",
   "execution_count": 2,
   "metadata": {},
   "outputs": [],
   "source": [
    "%matplotlib inline\n",
    "import numpy as np\n",
    "import matplotlib.pyplot as plt\n",
    "import pandas as pd"
   ]
  },
  {
   "cell_type": "code",
   "execution_count": 3,
   "metadata": {},
   "outputs": [],
   "source": [
    "import random\n",
    "import itertools\n",
    "from copy import deepcopy"
   ]
  },
  {
   "cell_type": "markdown",
   "metadata": {},
   "source": [
    "itertools : \n",
    "迭代器（生成器）在Python中是一種很常用也很好用的資料結構，比起列表(list)來說，迭代器最大的優勢就是延遲計算，按需使用，從而提高開發體驗和執行效率，以至於在Python 3中map,filter等操作返回的不再是列表而是迭代器。\n",
    "\n",
    "copy() & deepcopy() : \n",
    "我們尋常意義的複製就是深複製，即將被複製物件完全再複製一遍作為獨立的新個體單獨存在。所以改變原有被複制物件不會對已經複製出來的新物件產生影響。\n",
    "—–而淺複製並不會產生一個獨立的物件單獨存在，他只是將原有的資料塊打上一個新標籤，所以當其中一個標籤被改變的時候，資料塊就會發生變化，另一個標籤也會隨之改變。這就和我們尋常意義上的複製有所不同了。"
   ]
  }
 ],
 "metadata": {
  "kernelspec": {
   "display_name": "Python 3",
   "language": "python",
   "name": "python3"
  },
  "language_info": {
   "codemirror_mode": {
    "name": "ipython",
    "version": 3
   },
   "file_extension": ".py",
   "mimetype": "text/x-python",
   "name": "python",
   "nbconvert_exporter": "python",
   "pygments_lexer": "ipython3",
   "version": "3.7.3"
  }
 },
 "nbformat": 4,
 "nbformat_minor": 2
}
