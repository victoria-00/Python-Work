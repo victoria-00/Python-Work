{
 "cells": [
  {
   "cell_type": "code",
   "execution_count": 2,
   "metadata": {},
   "outputs": [],
   "source": [
    "%matplotlib inline\n",
    "import numpy as np\n",
    "import matplotlib.pyplot as plt\n",
    "import pandas as pd"
   ]
  },
  {
   "cell_type": "markdown",
   "metadata": {},
   "source": [
    "# 第一題_算閏年：\n",
    "### 請定義一個函式，讀進一個年份，輸出是不是閏年。\n",
    "\n",
    "### 提示：\n",
    "### 目前使用的格里高利曆閏年規則如下：\n",
    "\n",
    "#### 4的倍數是可能的。\n",
    "#### 100的倍數是不可能的。\n",
    "#### 400的倍數是可能的。"
   ]
  },
  {
   "cell_type": "code",
   "execution_count": 5,
   "metadata": {},
   "outputs": [
    {
     "name": "stdout",
     "output_type": "stream",
     "text": [
      "請輸入你想詢問的年份:1999\n",
      "1999年是平年\n"
     ]
    }
   ],
   "source": [
    "year = int(input(\"請輸入你想詢問的年份:\"))\n",
    "\n",
    "if (year % 4) == 0 & (year % 100) != 0 or (year % 400) == 0:\n",
    "    print(\"%s年是閏年\" % year)\n",
    "\n",
    "else:\n",
    "    print(\"%s年是平年\" % year)"
   ]
  },
  {
   "cell_type": "code",
   "execution_count": null,
   "metadata": {},
   "outputs": [],
   "source": []
  }
 ],
 "metadata": {
  "kernelspec": {
   "display_name": "Python 3",
   "language": "python",
   "name": "python3"
  },
  "language_info": {
   "codemirror_mode": {
    "name": "ipython",
    "version": 3
   },
   "file_extension": ".py",
   "mimetype": "text/x-python",
   "name": "python",
   "nbconvert_exporter": "python",
   "pygments_lexer": "ipython3",
   "version": "3.7.3"
  }
 },
 "nbformat": 4,
 "nbformat_minor": 2
}
