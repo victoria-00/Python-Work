{
 "cells": [
  {
   "cell_type": "code",
   "execution_count": 4,
   "metadata": {},
   "outputs": [],
   "source": [
    "%matplotlib inline\n",
    "import numpy as np\n",
    "import matplotlib.pyplot as plt\n",
    "import pandas as pd\n",
    "import random"
   ]
  },
  {
   "cell_type": "code",
   "execution_count": 12,
   "metadata": {},
   "outputs": [
    {
     "name": "stdout",
     "output_type": "stream",
     "text": [
      "今天晚餐吃甚麼?\n",
      "請輸入今天晚餐的最高預算90\n",
      "健康滷味\n"
     ]
    }
   ],
   "source": [
    "print(\"今天晚餐吃甚麼?\")\n",
    "m=int(input('請輸入今天晚餐的最高預算'))\n",
    "\n",
    "if m <= 60:\n",
    "    print(random.choice([\"便利商店\",\"季旭\",\"舅媽的店\",\"自助餐\",\"My麵屋\",\"私房麵\"]))\n",
    "elif 100 > m > 80:\n",
    "    print(random.choice([\"重慶酸辣粉\",\"四五大街\",\"健康滷味\",\"左撇子\",\"敏忠\"]))\n",
    "else:\n",
    "    print(random.choice([\"東京小館\",\"金鮨\",\"Juicy bun\",\"樂山\",\"大呼過癮\",\"鬼匠拉麵\"]))"
   ]
  },
  {
   "cell_type": "code",
   "execution_count": null,
   "metadata": {},
   "outputs": [],
   "source": []
  }
 ],
 "metadata": {
  "kernelspec": {
   "display_name": "Python 3",
   "language": "python",
   "name": "python3"
  },
  "language_info": {
   "codemirror_mode": {
    "name": "ipython",
    "version": 3
   },
   "file_extension": ".py",
   "mimetype": "text/x-python",
   "name": "python",
   "nbconvert_exporter": "python",
   "pygments_lexer": "ipython3",
   "version": "3.7.3"
  }
 },
 "nbformat": 4,
 "nbformat_minor": 2
}
