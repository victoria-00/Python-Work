{
 "cells": [
  {
   "cell_type": "markdown",
   "metadata": {},
   "source": [
    "# 正規讀套件的方法"
   ]
  },
  {
   "cell_type": "code",
   "execution_count": 1,
   "metadata": {},
   "outputs": [],
   "source": [
    "from numpy import sin # from 套件 import 函數"
   ]
  },
  {
   "cell_type": "code",
   "execution_count": 2,
   "metadata": {},
   "outputs": [
    {
     "data": {
      "text/plain": [
       "0.1411200080598672"
      ]
     },
     "execution_count": 2,
     "metadata": {},
     "output_type": "execute_result"
    }
   ],
   "source": [
    "sin(3)"
   ]
  },
  {
   "cell_type": "code",
   "execution_count": 3,
   "metadata": {
    "scrolled": true
   },
   "outputs": [
    {
     "ename": "NameError",
     "evalue": "name 'cos' is not defined",
     "output_type": "error",
     "traceback": [
      "\u001b[1;31m---------------------------------------------------------------------------\u001b[0m",
      "\u001b[1;31mNameError\u001b[0m                                 Traceback (most recent call last)",
      "\u001b[1;32m<ipython-input-3-480b2d8ad4a3>\u001b[0m in \u001b[0;36m<module>\u001b[1;34m\u001b[0m\n\u001b[1;32m----> 1\u001b[1;33m \u001b[0mcos\u001b[0m\u001b[1;33m(\u001b[0m\u001b[1;36m3\u001b[0m\u001b[1;33m)\u001b[0m \u001b[1;31m# 沒import就不會懂\u001b[0m\u001b[1;33m\u001b[0m\u001b[1;33m\u001b[0m\u001b[0m\n\u001b[0m",
      "\u001b[1;31mNameError\u001b[0m: name 'cos' is not defined"
     ]
    }
   ],
   "source": [
    "cos(3) # 沒import就不會懂"
   ]
  },
  {
   "cell_type": "code",
   "execution_count": 5,
   "metadata": {},
   "outputs": [],
   "source": [
    "from numpy import * # import *代表全部都import進來"
   ]
  },
  {
   "cell_type": "code",
   "execution_count": 6,
   "metadata": {},
   "outputs": [
    {
     "data": {
      "text/plain": [
       "3.141592653589793"
      ]
     },
     "execution_count": 6,
     "metadata": {},
     "output_type": "execute_result"
    }
   ],
   "source": [
    "pi"
   ]
  },
  {
   "cell_type": "code",
   "execution_count": 7,
   "metadata": {},
   "outputs": [
    {
     "data": {
      "text/plain": [
       "-0.9899924966004454"
      ]
     },
     "execution_count": 7,
     "metadata": {},
     "output_type": "execute_result"
    }
   ],
   "source": [
    "cos(3)"
   ]
  },
  {
   "cell_type": "code",
   "execution_count": 8,
   "metadata": {},
   "outputs": [],
   "source": [
    "from random import *"
   ]
  },
  {
   "cell_type": "code",
   "execution_count": 9,
   "metadata": {},
   "outputs": [
    {
     "data": {
      "text/plain": [
       "9"
      ]
     },
     "execution_count": 9,
     "metadata": {},
     "output_type": "execute_result"
    }
   ],
   "source": [
    "randint(1, 10)  #有包含10"
   ]
  },
  {
   "cell_type": "code",
   "execution_count": 10,
   "metadata": {},
   "outputs": [
    {
     "name": "stdout",
     "output_type": "stream",
     "text": [
      "1, 10, 10, 4, 8, 10, 2, 8, 4, 7, 3, 8, 6, 4, 6, 10, 7, 4, 6, 7, 10, 1, 9, 4, 7, 1, 9, 6, 9, 1, 3, 3, 3, 6, 3, 5, 6, 5, 10, 3, 6, 4, 8, 1, 1, 10, 5, 5, 7, 5, "
     ]
    }
   ],
   "source": [
    "for i in range(50):  # range(5) 抽50次\n",
    "    print(randint(1,10), end=\", \") #不想印到50個這麼長 想用逗點隔開"
   ]
  },
  {
   "cell_type": "code",
   "execution_count": 11,
   "metadata": {},
   "outputs": [],
   "source": [
    "from numpy.random import *"
   ]
  },
  {
   "cell_type": "code",
   "execution_count": 12,
   "metadata": {},
   "outputs": [
    {
     "data": {
      "text/plain": [
       "5"
      ]
     },
     "execution_count": 12,
     "metadata": {},
     "output_type": "execute_result"
    }
   ],
   "source": [
    "randint(1, 10)  #不包含10"
   ]
  },
  {
   "cell_type": "code",
   "execution_count": 13,
   "metadata": {},
   "outputs": [
    {
     "name": "stdout",
     "output_type": "stream",
     "text": [
      "1, 3, 7, 5, 9, 9, 7, 2, 9, 4, 8, 8, 8, 2, 6, 9, 9, 2, 6, 1, 9, 7, 6, 7, 1, 5, 3, 5, 7, 2, 1, 9, 8, 9, 6, 9, 6, 3, 6, 4, 7, 2, 6, 3, 5, 1, 9, 6, 9, 5, "
     ]
    }
   ],
   "source": [
    "for i in range(50):  \n",
    "    print(randint(1,10), end=\", \")"
   ]
  },
  {
   "cell_type": "markdown",
   "metadata": {},
   "source": [
    "### 因為容易出現像上面那樣程式碼看起來一樣但結果不同的，所以不推薦 import * 的形式"
   ]
  },
  {
   "cell_type": "markdown",
   "metadata": {},
   "source": [
    "### 想讀全部又不用*的方法"
   ]
  },
  {
   "cell_type": "code",
   "execution_count": 14,
   "metadata": {},
   "outputs": [],
   "source": [
    "import numpy  #import 套件名 可以讀全部套件"
   ]
  },
  {
   "cell_type": "code",
   "execution_count": 15,
   "metadata": {},
   "outputs": [
    {
     "data": {
      "text/plain": [
       "-0.7568024953079282"
      ]
     },
     "execution_count": 15,
     "metadata": {},
     "output_type": "execute_result"
    }
   ],
   "source": [
    "numpy.sin(4)"
   ]
  },
  {
   "cell_type": "code",
   "execution_count": 16,
   "metadata": {},
   "outputs": [
    {
     "data": {
      "text/plain": [
       "0.28366218546322625"
      ]
     },
     "execution_count": 16,
     "metadata": {},
     "output_type": "execute_result"
    }
   ],
   "source": [
    "numpy.cos(5)"
   ]
  },
  {
   "cell_type": "code",
   "execution_count": 17,
   "metadata": {},
   "outputs": [
    {
     "data": {
      "text/plain": [
       "3.141592653589793"
      ]
     },
     "execution_count": 17,
     "metadata": {},
     "output_type": "execute_result"
    }
   ],
   "source": [
    "numpy.pi"
   ]
  },
  {
   "cell_type": "code",
   "execution_count": 18,
   "metadata": {},
   "outputs": [],
   "source": [
    "import numpy as np  \n",
    "\n",
    "#讀套件並給套件一個縮寫綽號: import 套建名 as 套件綽號"
   ]
  },
  {
   "cell_type": "code",
   "execution_count": 19,
   "metadata": {},
   "outputs": [
    {
     "data": {
      "text/plain": [
       "-0.7568024953079282"
      ]
     },
     "execution_count": 19,
     "metadata": {},
     "output_type": "execute_result"
    }
   ],
   "source": [
    "np.sin(4)"
   ]
  },
  {
   "cell_type": "code",
   "execution_count": 20,
   "metadata": {},
   "outputs": [
    {
     "data": {
      "text/plain": [
       "3.141592653589793"
      ]
     },
     "execution_count": 20,
     "metadata": {},
     "output_type": "execute_result"
    }
   ],
   "source": [
    "np.pi"
   ]
  },
  {
   "cell_type": "markdown",
   "metadata": {},
   "source": [
    "# 數據分析的標準動作"
   ]
  },
  {
   "cell_type": "code",
   "execution_count": 21,
   "metadata": {},
   "outputs": [],
   "source": [
    "%matplotlib inline \n",
    "#讓jupyter notebook能夠出現matplotlib的圖片\n",
    "\n",
    "import numpy as np \n",
    "import matplotlib.pyplot as plt"
   ]
  },
  {
   "cell_type": "code",
   "execution_count": 22,
   "metadata": {},
   "outputs": [
    {
     "data": {
      "text/plain": [
       "3.141592653589793"
      ]
     },
     "execution_count": 22,
     "metadata": {},
     "output_type": "execute_result"
    }
   ],
   "source": [
    "np.pi"
   ]
  },
  {
   "cell_type": "code",
   "execution_count": 23,
   "metadata": {},
   "outputs": [
    {
     "data": {
      "text/plain": [
       "[<matplotlib.lines.Line2D at 0x161f7483b70>]"
      ]
     },
     "execution_count": 23,
     "metadata": {},
     "output_type": "execute_result"
    },
    {
     "data": {
      "image/png": "[encoded data removed]",
      "text/plain": [
       "<Figure size 432x288 with 1 Axes>"
      ]
     },
     "metadata": {
      "needs_background": "light"
     },
     "output_type": "display_data"
    }
   ],
   "source": [
    "plt.plot([0,0,100,0,80,0,0,0,0, -50,-80,0,0, 4])"
   ]
  },
  {
   "cell_type": "code",
   "execution_count": 24,
   "metadata": {},
   "outputs": [
    {
     "data": {
      "text/plain": [
       "[<matplotlib.lines.Line2D at 0x161f753e160>]"
      ]
     },
     "execution_count": 24,
     "metadata": {},
     "output_type": "execute_result"
    },
    {
     "data": {
      "image/png": "[encoded data removed]",
      "text/plain": [
       "<Figure size 432x288 with 1 Axes>"
      ]
     },
     "metadata": {
      "needs_background": "light"
     },
     "output_type": "display_data"
    }
   ],
   "source": [
    "plt.plot(np.random.randn(100))"
   ]
  },
  {
   "cell_type": "markdown",
   "metadata": {},
   "source": [
    "## 處理一整個List的數字"
   ]
  },
  {
   "cell_type": "code",
   "execution_count": 25,
   "metadata": {},
   "outputs": [],
   "source": [
    "p=[1096.95, 596.95, 896.95] #三樣商品的美金價格"
   ]
  },
  {
   "cell_type": "code",
   "execution_count": 26,
   "metadata": {},
   "outputs": [],
   "source": [
    "c = 30.1 #美金與台幣匯率"
   ]
  },
  {
   "cell_type": "code",
   "execution_count": 27,
   "metadata": {},
   "outputs": [
    {
     "name": "stdout",
     "output_type": "stream",
     "text": [
      "33018.195\n",
      "17968.195000000003\n",
      "26998.195000000003\n"
     ]
    }
   ],
   "source": [
    "for k in p: #P-list裡面的數值k\n",
    "    print(k*c)"
   ]
  },
  {
   "cell_type": "code",
   "execution_count": 28,
   "metadata": {},
   "outputs": [],
   "source": [
    "result = [] #最後結果的空的List"
   ]
  },
  {
   "cell_type": "code",
   "execution_count": 29,
   "metadata": {},
   "outputs": [],
   "source": [
    "for k in p:\n",
    "    twd = k*c\n",
    "    result.append(twd) #把算出來的結果放進剛剛的result這個List"
   ]
  },
  {
   "cell_type": "code",
   "execution_count": 30,
   "metadata": {},
   "outputs": [
    {
     "data": {
      "text/plain": [
       "[33018.195, 17968.195000000003, 26998.195000000003]"
      ]
     },
     "execution_count": 30,
     "metadata": {},
     "output_type": "execute_result"
    }
   ],
   "source": [
    "result"
   ]
  },
  {
   "cell_type": "markdown",
   "metadata": {},
   "source": [
    "# 用Array 算加權和 （舉例:算成績）"
   ]
  },
  {
   "cell_type": "code",
   "execution_count": 31,
   "metadata": {},
   "outputs": [],
   "source": [
    "grades = np.array([85, 70, 82])   #分數"
   ]
  },
  {
   "cell_type": "code",
   "execution_count": 32,
   "metadata": {},
   "outputs": [],
   "source": [
    "weights = np.array([0.3, 0.4, 0.3]) #算學期成績對應的佔多少%"
   ]
  },
  {
   "cell_type": "code",
   "execution_count": 33,
   "metadata": {},
   "outputs": [],
   "source": [
    "g = grades * weights"
   ]
  },
  {
   "cell_type": "code",
   "execution_count": 34,
   "metadata": {},
   "outputs": [
    {
     "data": {
      "text/plain": [
       "array([25.5, 28. , 24.6])"
      ]
     },
     "execution_count": 34,
     "metadata": {},
     "output_type": "execute_result"
    }
   ],
   "source": [
    "g"
   ]
  },
  {
   "cell_type": "markdown",
   "metadata": {},
   "source": [
    "### array可以將個別的位置相乘"
   ]
  },
  {
   "cell_type": "code",
   "execution_count": 35,
   "metadata": {},
   "outputs": [
    {
     "data": {
      "text/plain": [
       "78.1"
      ]
     },
     "execution_count": 35,
     "metadata": {},
     "output_type": "execute_result"
    }
   ],
   "source": [
    "g.sum()"
   ]
  },
  {
   "cell_type": "code",
   "execution_count": 36,
   "metadata": {},
   "outputs": [
    {
     "data": {
      "text/plain": [
       "78.1"
      ]
     },
     "execution_count": 36,
     "metadata": {},
     "output_type": "execute_result"
    }
   ],
   "source": [
    "np.dot(grades, weights)   #一位同學的成績\n",
    "\n",
    "#np.dot(array1, array2):將array1跟array2做內積"
   ]
  },
  {
   "cell_type": "markdown",
   "metadata": {},
   "source": [
    "# 算全班成績"
   ]
  },
  {
   "cell_type": "code",
   "execution_count": 37,
   "metadata": {},
   "outputs": [],
   "source": [
    "grades = [[85, 70, 82],\n",
    "         [75, 92, 85],\n",
    "         [66, 67, 64],\n",
    "         [87, 94, 60]]  #先打一個list"
   ]
  },
  {
   "cell_type": "code",
   "execution_count": 2,
   "metadata": {},
   "outputs": [],
   "source": [
    "%matplotlib inline\n",
    "import numpy as np\n",
    "import matplotlib.pyplot as plt"
   ]
  },
  {
   "cell_type": "code",
   "execution_count": 4,
   "metadata": {},
   "outputs": [],
   "source": [
    "grades = np.array([[85, 70, 82],\n",
    "         [75, 92, 85],\n",
    "         [66, 67, 64],\n",
    "         [87, 94, 60]])  #然後把這個List變成array"
   ]
  },
  {
   "cell_type": "code",
   "execution_count": 5,
   "metadata": {},
   "outputs": [
    {
     "data": {
      "text/plain": [
       "array([[85, 70, 82],\n",
       "       [75, 92, 85],\n",
       "       [66, 67, 64],\n",
       "       [87, 94, 60]])"
      ]
     },
     "execution_count": 5,
     "metadata": {},
     "output_type": "execute_result"
    }
   ],
   "source": [
    "grades"
   ]
  },
  {
   "cell_type": "code",
   "execution_count": 6,
   "metadata": {},
   "outputs": [],
   "source": [
    "weights = np.array([0.3, 0.4, 0.3])"
   ]
  },
  {
   "cell_type": "code",
   "execution_count": 7,
   "metadata": {},
   "outputs": [
    {
     "data": {
      "text/plain": [
       "array([78.1, 84.8, 65.8, 81.7])"
      ]
     },
     "execution_count": 7,
     "metadata": {},
     "output_type": "execute_result"
    }
   ],
   "source": [
    "np.dot(grades, weights)"
   ]
  },
  {
   "cell_type": "markdown",
   "metadata": {},
   "source": [
    "# Array大變身: 把十維度的array變成2*5的向量"
   ]
  },
  {
   "cell_type": "code",
   "execution_count": 8,
   "metadata": {},
   "outputs": [],
   "source": [
    "A = np.random.randn(100)"
   ]
  },
  {
   "cell_type": "code",
   "execution_count": 9,
   "metadata": {},
   "outputs": [
    {
     "data": {
      "text/plain": [
       "array([-0.58690661, -0.81724556,  0.56907691,  0.38355152,  0.45763663,\n",
       "       -0.35078631,  0.59177045, -2.082531  ,  0.38792291,  0.71502068,\n",
       "       -1.97343593, -0.22948704, -1.06071944, -1.1997959 , -0.48782287,\n",
       "       -0.97542224,  0.16325706, -0.95325704,  0.62782705,  0.17316382,\n",
       "        0.12467209, -0.55893321, -1.38044784, -0.48494939,  0.41425476,\n",
       "       -2.03664814, -0.65378485,  0.46743363, -0.19061255, -0.01018252,\n",
       "        1.14056775, -0.23032282, -1.06293646,  0.35069865,  2.86633936,\n",
       "       -1.047424  ,  0.57743914,  1.38028212,  1.10272361,  0.64544909,\n",
       "       -1.097295  , -0.28941836,  1.32759773,  1.22819013, -0.06347104,\n",
       "        1.92720287, -1.89611166, -0.63240191,  0.81344058, -1.27536799,\n",
       "       -0.29314745,  0.06032738, -1.07547139, -0.67233528, -0.0975107 ,\n",
       "       -0.19136184,  0.07336352, -0.18383318,  1.70486374, -0.37859619,\n",
       "       -2.24547588, -1.1556526 , -0.95973829, -0.14401638, -0.20322435,\n",
       "       -0.45920839, -0.11123583,  1.04351545, -0.74346924,  0.74586174,\n",
       "       -0.31820144, -0.91913475,  1.67990745,  0.01560068, -0.37378303,\n",
       "       -1.16327003,  0.25435513, -0.30290767,  0.9098224 ,  0.76134472,\n",
       "        0.0861201 , -0.57944   ,  0.76272908,  0.63367851,  0.51458444,\n",
       "        1.79408147, -1.09947208,  0.49222402,  1.90013396, -0.97398053,\n",
       "        0.91268252, -0.86932162, -0.37299908,  0.15897152,  0.94719334,\n",
       "        0.63896668,  0.20020405, -1.23195813, -1.60494272,  0.40045218])"
      ]
     },
     "execution_count": 9,
     "metadata": {},
     "output_type": "execute_result"
    }
   ],
   "source": [
    "A"
   ]
  },
  {
   "cell_type": "code",
   "execution_count": 10,
   "metadata": {},
   "outputs": [],
   "source": [
    "A= 10*A + 50"
   ]
  },
  {
   "cell_type": "code",
   "execution_count": 11,
   "metadata": {},
   "outputs": [
    {
     "data": {
      "text/plain": [
       "array([44.13093393, 41.82754441, 55.69076911, 53.83551518, 54.57636626,\n",
       "       46.49213695, 55.91770454, 29.17468999, 53.87922908, 57.15020678,\n",
       "       30.26564071, 47.70512958, 39.39280556, 38.00204103, 45.12177128,\n",
       "       40.24577759, 51.63257057, 40.46742963, 56.27827049, 51.73163821,\n",
       "       51.24672091, 44.41066794, 36.19552159, 45.15050607, 54.14254761,\n",
       "       29.63351855, 43.46215149, 54.67433635, 48.0938745 , 49.89817482,\n",
       "       61.40567746, 47.69677179, 39.37063542, 53.50698649, 78.66339361,\n",
       "       39.52576   , 55.77439137, 63.80282116, 61.02723611, 56.45449092,\n",
       "       39.02704996, 47.10581638, 63.27597728, 62.28190135, 49.3652896 ,\n",
       "       69.27202866, 31.03888344, 43.67598087, 58.13440578, 37.24632013,\n",
       "       47.06852547, 50.60327376, 39.24528609, 43.27664724, 49.02489301,\n",
       "       48.08638158, 50.73363518, 48.16166825, 67.04863745, 46.21403806,\n",
       "       27.54524118, 38.44347405, 40.40261713, 48.55983618, 47.96775647,\n",
       "       45.40791608, 48.88764173, 60.43515451, 42.56530761, 57.45861736,\n",
       "       46.81798563, 40.8086525 , 66.7990745 , 50.15600678, 46.26216965,\n",
       "       38.36729971, 52.54355126, 46.97092333, 59.09822397, 57.61344725,\n",
       "       50.86120097, 44.2056    , 57.6272908 , 56.33678511, 55.14584442,\n",
       "       67.94081466, 39.00527924, 54.92224023, 69.00133958, 40.26019465,\n",
       "       59.12682515, 41.30678378, 46.27000916, 51.58971517, 59.47193345,\n",
       "       56.38966683, 52.00204049, 37.68041866, 33.95057279, 54.00452179])"
      ]
     },
     "execution_count": 11,
     "metadata": {},
     "output_type": "execute_result"
    }
   ],
   "source": [
    "A"
   ]
  },
  {
   "cell_type": "code",
   "execution_count": 12,
   "metadata": {},
   "outputs": [
    {
     "data": {
      "text/plain": [
       "(100,)"
      ]
     },
     "execution_count": 12,
     "metadata": {},
     "output_type": "execute_result"
    }
   ],
   "source": [
    "A.shape  #array.shape可以看array的形狀 #現在是100維的向量"
   ]
  },
  {
   "cell_type": "code",
   "execution_count": 14,
   "metadata": {},
   "outputs": [],
   "source": [
    "A.shape = (5, 20) #改成5*20  A.shape=(新的形狀)"
   ]
  },
  {
   "cell_type": "code",
   "execution_count": 15,
   "metadata": {},
   "outputs": [
    {
     "data": {
      "text/plain": [
       "array([[44.13093393, 41.82754441, 55.69076911, 53.83551518, 54.57636626,\n",
       "        46.49213695, 55.91770454, 29.17468999, 53.87922908, 57.15020678,\n",
       "        30.26564071, 47.70512958, 39.39280556, 38.00204103, 45.12177128,\n",
       "        40.24577759, 51.63257057, 40.46742963, 56.27827049, 51.73163821],\n",
       "       [51.24672091, 44.41066794, 36.19552159, 45.15050607, 54.14254761,\n",
       "        29.63351855, 43.46215149, 54.67433635, 48.0938745 , 49.89817482,\n",
       "        61.40567746, 47.69677179, 39.37063542, 53.50698649, 78.66339361,\n",
       "        39.52576   , 55.77439137, 63.80282116, 61.02723611, 56.45449092],\n",
       "       [39.02704996, 47.10581638, 63.27597728, 62.28190135, 49.3652896 ,\n",
       "        69.27202866, 31.03888344, 43.67598087, 58.13440578, 37.24632013,\n",
       "        47.06852547, 50.60327376, 39.24528609, 43.27664724, 49.02489301,\n",
       "        48.08638158, 50.73363518, 48.16166825, 67.04863745, 46.21403806],\n",
       "       [27.54524118, 38.44347405, 40.40261713, 48.55983618, 47.96775647,\n",
       "        45.40791608, 48.88764173, 60.43515451, 42.56530761, 57.45861736,\n",
       "        46.81798563, 40.8086525 , 66.7990745 , 50.15600678, 46.26216965,\n",
       "        38.36729971, 52.54355126, 46.97092333, 59.09822397, 57.61344725],\n",
       "       [50.86120097, 44.2056    , 57.6272908 , 56.33678511, 55.14584442,\n",
       "        67.94081466, 39.00527924, 54.92224023, 69.00133958, 40.26019465,\n",
       "        59.12682515, 41.30678378, 46.27000916, 51.58971517, 59.47193345,\n",
       "        56.38966683, 52.00204049, 37.68041866, 33.95057279, 54.00452179]])"
      ]
     },
     "execution_count": 15,
     "metadata": {},
     "output_type": "execute_result"
    }
   ],
   "source": [
    "A"
   ]
  },
  {
   "cell_type": "code",
   "execution_count": 16,
   "metadata": {},
   "outputs": [
    {
     "data": {
      "text/plain": [
       "array([[44.13093393],\n",
       "       [41.82754441],\n",
       "       [55.69076911],\n",
       "       [53.83551518],\n",
       "       [54.57636626],\n",
       "       [46.49213695],\n",
       "       [55.91770454],\n",
       "       [29.17468999],\n",
       "       [53.87922908],\n",
       "       [57.15020678],\n",
       "       [30.26564071],\n",
       "       [47.70512958],\n",
       "       [39.39280556],\n",
       "       [38.00204103],\n",
       "       [45.12177128],\n",
       "       [40.24577759],\n",
       "       [51.63257057],\n",
       "       [40.46742963],\n",
       "       [56.27827049],\n",
       "       [51.73163821],\n",
       "       [51.24672091],\n",
       "       [44.41066794],\n",
       "       [36.19552159],\n",
       "       [45.15050607],\n",
       "       [54.14254761],\n",
       "       [29.63351855],\n",
       "       [43.46215149],\n",
       "       [54.67433635],\n",
       "       [48.0938745 ],\n",
       "       [49.89817482],\n",
       "       [61.40567746],\n",
       "       [47.69677179],\n",
       "       [39.37063542],\n",
       "       [53.50698649],\n",
       "       [78.66339361],\n",
       "       [39.52576   ],\n",
       "       [55.77439137],\n",
       "       [63.80282116],\n",
       "       [61.02723611],\n",
       "       [56.45449092],\n",
       "       [39.02704996],\n",
       "       [47.10581638],\n",
       "       [63.27597728],\n",
       "       [62.28190135],\n",
       "       [49.3652896 ],\n",
       "       [69.27202866],\n",
       "       [31.03888344],\n",
       "       [43.67598087],\n",
       "       [58.13440578],\n",
       "       [37.24632013],\n",
       "       [47.06852547],\n",
       "       [50.60327376],\n",
       "       [39.24528609],\n",
       "       [43.27664724],\n",
       "       [49.02489301],\n",
       "       [48.08638158],\n",
       "       [50.73363518],\n",
       "       [48.16166825],\n",
       "       [67.04863745],\n",
       "       [46.21403806],\n",
       "       [27.54524118],\n",
       "       [38.44347405],\n",
       "       [40.40261713],\n",
       "       [48.55983618],\n",
       "       [47.96775647],\n",
       "       [45.40791608],\n",
       "       [48.88764173],\n",
       "       [60.43515451],\n",
       "       [42.56530761],\n",
       "       [57.45861736],\n",
       "       [46.81798563],\n",
       "       [40.8086525 ],\n",
       "       [66.7990745 ],\n",
       "       [50.15600678],\n",
       "       [46.26216965],\n",
       "       [38.36729971],\n",
       "       [52.54355126],\n",
       "       [46.97092333],\n",
       "       [59.09822397],\n",
       "       [57.61344725],\n",
       "       [50.86120097],\n",
       "       [44.2056    ],\n",
       "       [57.6272908 ],\n",
       "       [56.33678511],\n",
       "       [55.14584442],\n",
       "       [67.94081466],\n",
       "       [39.00527924],\n",
       "       [54.92224023],\n",
       "       [69.00133958],\n",
       "       [40.26019465],\n",
       "       [59.12682515],\n",
       "       [41.30678378],\n",
       "       [46.27000916],\n",
       "       [51.58971517],\n",
       "       [59.47193345],\n",
       "       [56.38966683],\n",
       "       [52.00204049],\n",
       "       [37.68041866],\n",
       "       [33.95057279],\n",
       "       [54.00452179]])"
      ]
     },
     "execution_count": 16,
     "metadata": {},
     "output_type": "execute_result"
    }
   ],
   "source": [
    "A.reshape(100,1)  #reshape是一個函數 會另外產生一個array \n",
    "\n",
    "#array.reshape(新的形狀)"
   ]
  },
  {
   "cell_type": "code",
   "execution_count": 17,
   "metadata": {},
   "outputs": [
    {
     "data": {
      "text/plain": [
       "array([[44.13093393, 41.82754441, 55.69076911, 53.83551518, 54.57636626,\n",
       "        46.49213695, 55.91770454, 29.17468999, 53.87922908, 57.15020678,\n",
       "        30.26564071, 47.70512958, 39.39280556, 38.00204103, 45.12177128,\n",
       "        40.24577759, 51.63257057, 40.46742963, 56.27827049, 51.73163821],\n",
       "       [51.24672091, 44.41066794, 36.19552159, 45.15050607, 54.14254761,\n",
       "        29.63351855, 43.46215149, 54.67433635, 48.0938745 , 49.89817482,\n",
       "        61.40567746, 47.69677179, 39.37063542, 53.50698649, 78.66339361,\n",
       "        39.52576   , 55.77439137, 63.80282116, 61.02723611, 56.45449092],\n",
       "       [39.02704996, 47.10581638, 63.27597728, 62.28190135, 49.3652896 ,\n",
       "        69.27202866, 31.03888344, 43.67598087, 58.13440578, 37.24632013,\n",
       "        47.06852547, 50.60327376, 39.24528609, 43.27664724, 49.02489301,\n",
       "        48.08638158, 50.73363518, 48.16166825, 67.04863745, 46.21403806],\n",
       "       [27.54524118, 38.44347405, 40.40261713, 48.55983618, 47.96775647,\n",
       "        45.40791608, 48.88764173, 60.43515451, 42.56530761, 57.45861736,\n",
       "        46.81798563, 40.8086525 , 66.7990745 , 50.15600678, 46.26216965,\n",
       "        38.36729971, 52.54355126, 46.97092333, 59.09822397, 57.61344725],\n",
       "       [50.86120097, 44.2056    , 57.6272908 , 56.33678511, 55.14584442,\n",
       "        67.94081466, 39.00527924, 54.92224023, 69.00133958, 40.26019465,\n",
       "        59.12682515, 41.30678378, 46.27000916, 51.58971517, 59.47193345,\n",
       "        56.38966683, 52.00204049, 37.68041866, 33.95057279, 54.00452179]])"
      ]
     },
     "execution_count": 17,
     "metadata": {},
     "output_type": "execute_result"
    }
   ],
   "source": [
    "A #本身還是那個array 想改變本來的array可以這樣打: A=A.reshape(100,1)"
   ]
  },
  {
   "cell_type": "markdown",
   "metadata": {},
   "source": [
    "# Array的快速生成法"
   ]
  },
  {
   "cell_type": "code",
   "execution_count": 18,
   "metadata": {},
   "outputs": [],
   "source": [
    "xy = [[x, y] for x in range(10) for y in range(5)] \n",
    "\n",
    "# 1. 先創造一個list 再把它變成array"
   ]
  },
  {
   "cell_type": "code",
   "execution_count": 19,
   "metadata": {},
   "outputs": [
    {
     "data": {
      "text/plain": [
       "[[0, 0],\n",
       " [0, 1],\n",
       " [0, 2],\n",
       " [0, 3],\n",
       " [0, 4],\n",
       " [1, 0],\n",
       " [1, 1],\n",
       " [1, 2],\n",
       " [1, 3],\n",
       " [1, 4],\n",
       " [2, 0],\n",
       " [2, 1],\n",
       " [2, 2],\n",
       " [2, 3],\n",
       " [2, 4],\n",
       " [3, 0],\n",
       " [3, 1],\n",
       " [3, 2],\n",
       " [3, 3],\n",
       " [3, 4],\n",
       " [4, 0],\n",
       " [4, 1],\n",
       " [4, 2],\n",
       " [4, 3],\n",
       " [4, 4],\n",
       " [5, 0],\n",
       " [5, 1],\n",
       " [5, 2],\n",
       " [5, 3],\n",
       " [5, 4],\n",
       " [6, 0],\n",
       " [6, 1],\n",
       " [6, 2],\n",
       " [6, 3],\n",
       " [6, 4],\n",
       " [7, 0],\n",
       " [7, 1],\n",
       " [7, 2],\n",
       " [7, 3],\n",
       " [7, 4],\n",
       " [8, 0],\n",
       " [8, 1],\n",
       " [8, 2],\n",
       " [8, 3],\n",
       " [8, 4],\n",
       " [9, 0],\n",
       " [9, 1],\n",
       " [9, 2],\n",
       " [9, 3],\n",
       " [9, 4]]"
      ]
     },
     "execution_count": 19,
     "metadata": {},
     "output_type": "execute_result"
    }
   ],
   "source": [
    "xy"
   ]
  },
  {
   "cell_type": "code",
   "execution_count": 20,
   "metadata": {},
   "outputs": [
    {
     "data": {
      "text/plain": [
       "array([0., 0., 0., 0., 0., 0., 0., 0., 0., 0.])"
      ]
     },
     "execution_count": 20,
     "metadata": {},
     "output_type": "execute_result"
    }
   ],
   "source": [
    "np.zeros(10)  #生成一個值都是零的array : np.zeros(你要的形狀)"
   ]
  },
  {
   "cell_type": "code",
   "execution_count": 21,
   "metadata": {},
   "outputs": [
    {
     "data": {
      "text/plain": [
       "array([[0., 0., 0., 0.],\n",
       "       [0., 0., 0., 0.],\n",
       "       [0., 0., 0., 0.]])"
      ]
     },
     "execution_count": 21,
     "metadata": {},
     "output_type": "execute_result"
    }
   ],
   "source": [
    "np.zeros((3,4))"
   ]
  },
  {
   "cell_type": "code",
   "execution_count": 22,
   "metadata": {},
   "outputs": [
    {
     "data": {
      "text/plain": [
       "array([1., 1., 1., 1., 1.])"
      ]
     },
     "execution_count": 22,
     "metadata": {},
     "output_type": "execute_result"
    }
   ],
   "source": [
    "np.ones(5) #生成一個都是一的array: np.ones(你要的形狀)"
   ]
  },
  {
   "cell_type": "code",
   "execution_count": 24,
   "metadata": {},
   "outputs": [
    {
     "data": {
      "text/plain": [
       "array([[1., 0., 0., 0., 0.],\n",
       "       [0., 1., 0., 0., 0.],\n",
       "       [0., 0., 1., 0., 0.],\n",
       "       [0., 0., 0., 1., 0.],\n",
       "       [0., 0., 0., 0., 1.]])"
      ]
     },
     "execution_count": 24,
     "metadata": {},
     "output_type": "execute_result"
    }
   ],
   "source": [
    "np.eye(5)   #np.eye(n) 生成一個n乘n的單位矩陣"
   ]
  },
  {
   "cell_type": "code",
   "execution_count": null,
   "metadata": {},
   "outputs": [],
   "source": []
  }
 ],
 "metadata": {
  "kernelspec": {
   "display_name": "Python 3",
   "language": "python",
   "name": "python3"
  }
 },
 "nbformat": 4,
 "nbformat_minor": 2
}
