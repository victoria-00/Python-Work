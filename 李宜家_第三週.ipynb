{
 "cells": [
  {
   "cell_type": "markdown",
   "metadata": {},
   "source": [
    "# 第一題\n",
    "### 有A,B,C三個班級，每班皆有10個學生，期中考結束後，老師希望計算各班級每位學生的加權平均成績。\n",
    " \n",
    "### 請隨機產生3個班級的成績單,每班10人,共五科,權重為weights=[0.25,0.25,0.25,0.15,0.10]。\n",
    "### 請算出班級加權平均成績，並以一個array輸出。"
   ]
  },
  {
   "cell_type": "code",
   "execution_count": 23,
   "metadata": {},
   "outputs": [],
   "source": [
    "%matplotlib inline\n",
    "\n",
    "import numpy as np\n",
    "import matplotlib.pyplot as plt\n",
    "import pandas as pd\n",
    "from random import randint"
   ]
  },
  {
   "cell_type": "code",
   "execution_count": 54,
   "metadata": {},
   "outputs": [],
   "source": [
    "Agrades = np.array([randint(40, 101)for i in range(50) ])"
   ]
  },
  {
   "cell_type": "code",
   "execution_count": 67,
   "metadata": {
    "scrolled": true
   },
   "outputs": [],
   "source": [
    "Agrades.shape=(10,5)"
   ]
  },
  {
   "cell_type": "code",
   "execution_count": 68,
   "metadata": {},
   "outputs": [],
   "source": [
    "weights = [0.25, 0.25, 0.25, 0.15, 0.10]"
   ]
  },
  {
   "cell_type": "code",
   "execution_count": 69,
   "metadata": {},
   "outputs": [
    {
     "data": {
      "text/plain": [
       "array([79.95, 67.1 , 71.2 , 72.7 , 57.95, 57.5 , 58.35, 73.5 , 56.2 ,\n",
       "       68.15])"
      ]
     },
     "execution_count": 69,
     "metadata": {},
     "output_type": "execute_result"
    }
   ],
   "source": [
    "np.dot(Agrades, weights)"
   ]
  },
  {
   "cell_type": "code",
   "execution_count": 81,
   "metadata": {},
   "outputs": [],
   "source": [
    "def grade():\n",
    "    Agrades = np.array([randint(40, 100) for i in range(50)])\n",
    "    A= Agrades.reshape(10,5)\n",
    "    weights = [0.25, 0.25, 0.25, 0.15, 0.10]\n",
    "    w=np.dot(A, weights)\n",
    "    return w"
   ]
  },
  {
   "cell_type": "code",
   "execution_count": 87,
   "metadata": {},
   "outputs": [
    {
     "name": "stdout",
     "output_type": "stream",
     "text": [
      "A班學生加權\n",
      " [73.55 75.65 68.7  66.3  78.3  67.4  68.95 56.75 54.95 73.7 ] \n",
      "B班學生加權\n",
      " [67.5  84.25 65.   68.4  67.4  64.1  70.4  79.35 67.15 81.95] \n",
      "C班學生加權\n",
      " [76.   53.05 75.9  76.85 72.05 62.35 53.9  74.4  69.4  76.9 ]\n"
     ]
    }
   ],
   "source": [
    "Ag=grade()\n",
    "Bg=grade()\n",
    "Cg=grade()\n",
    "print(\"A班學生加權\\n\",Ag,\"\\nB班學生加權\\n\",Bg,\"\\nC班學生加權\\n\",Cg)  #\\n:換行"
   ]
  },
  {
   "cell_type": "code",
   "execution_count": 88,
   "metadata": {},
   "outputs": [
    {
     "name": "stdout",
     "output_type": "stream",
     "text": [
      "三班加權平均 [68.425 71.55  69.08 ]\n"
     ]
    }
   ],
   "source": [
    "ava=np.average(Ag)\n",
    "avb=np.average(Bg)\n",
    "avc=np.average(Cg)\n",
    "print(\"三班加權平均\",np.array([ava,avb,avc]))"
   ]
  },
  {
   "cell_type": "markdown",
   "metadata": {},
   "source": [
    "# 第二題"
   ]
  },
  {
   "cell_type": "markdown",
   "metadata": {},
   "source": [
    "### 向日葵班有40位學生，學期結束後，老師希望知道班上的期末成績相關資訊，作為下個學期教學的參考。\n",
    " \n",
    "### 請隨機產生40筆0~100的數字作為向日葵班的成績分佈，接著列出最高分、最低分、及格人數(>=60)、平均數、標準差，並且以10分作為一個區間，使用圖表畫出各個區間的人數。"
   ]
  },
  {
   "cell_type": "code",
   "execution_count": null,
   "metadata": {},
   "outputs": [],
   "source": []
  },
  {
   "cell_type": "code",
   "execution_count": null,
   "metadata": {},
   "outputs": [],
   "source": []
  }
 ],
 "metadata": {
  "kernelspec": {
   "display_name": "Python 3",
   "language": "python",
   "name": "python3"
  },
  "language_info": {
   "codemirror_mode": {
    "name": "ipython",
    "version": 3
   },
   "file_extension": ".py",
   "mimetype": "text/x-python",
   "name": "python",
   "nbconvert_exporter": "python",
   "pygments_lexer": "ipython3",
   "version": "3.7.3"
  }
 },
 "nbformat": 4,
 "nbformat_minor": 2
}
